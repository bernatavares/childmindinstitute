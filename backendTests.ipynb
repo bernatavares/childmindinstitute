{
 "cells": [
  {
   "cell_type": "code",
   "execution_count": null,
   "metadata": {},
   "outputs": [],
   "source": [
    "import girderformindlogger\n",
    "import girder_client as gc\n",
    "import pandas as pd\n",
    "import numpy as np\n",
    "import simplejson"
   ]
  },
  {
   "cell_type": "code",
   "execution_count": 2,
   "metadata": {},
   "outputs": [],
   "source": [
    "girder = gc.GirderClient(host=\"localhost\", port=8080)"
   ]
  },
  {
   "cell_type": "markdown",
   "metadata": {},
   "source": [
    "# Plan\n",
    "\n",
    "### Basics \n",
    "\n",
    "- [x] create a new user (userA)\n",
    "- [x] get userA's applets and make sure the list is empty\n",
    "- [x] userA creates an applet with an activity-set-url (url TBD)\n",
    "- [x] get userA's applets and make sure we have the applet they just created\n",
    "- [x] create userB\n",
    "- [x] userA invites userB to the applet\n",
    "- [x] make sure userB has an invite\n",
    "- [x] userB accepts their invite\n",
    "- [x] list userB's applets\n",
    "- [x] userA invites userC (by email) to the applet\n",
    "- [x] check that the applet user table has userC pending\n",
    "- [x] create userC with the same email\n",
    "- [x] check that userC has an invite\n",
    "- [x] accept userC's applet invite\n",
    "- [x] check userC's applets\n",
    "- [x] userA, B and C submit responses to each activity in the applet\n",
    "- [x] user B removes the applet without removing data\n",
    "- [x] user C removes the applet AND removes data\n",
    "- [x] delete userB and userC\n",
    "- [x] userA deactivites their applet\n",
    "- [x] delete userA\n",
    "- [x] refresh an applet\n",
    "- [x] add a schedule to an applet\n",
    "- [x] add test for nested sub-activities\n",
    "\n",
    "### Backend TODOs\n",
    "\n",
    "- [x] userA can see user's B & C's data\n",
    "- [x] get responses for each user in the last 7 days"
   ]
  },
  {
   "cell_type": "markdown",
   "metadata": {},
   "source": [
    "# Create a new user"
   ]
  },
  {
   "cell_type": "code",
   "execution_count": 3,
   "metadata": {},
   "outputs": [],
   "source": [
    "def testCreateUser(email=None):\n",
    "    randomUser = np.random.randint(1000000)\n",
    "    firstName = 'test'\n",
    "    lastName = 'user'\n",
    "    # NOTE: girder makes login and email lowercase!!!\n",
    "    login = 'testuser{}'.format(randomUser)\n",
    "    if not email:\n",
    "        email = 'testemail{}@testemail.com'.format(randomUser)\n",
    "    password = 'password'\n",
    "    createUser = girder.post('user', parameters=dict(firstName=firstName,\n",
    "                                        lastName=lastName,\n",
    "                                        login=login,\n",
    "                                        email=email,\n",
    "                                        password=password\n",
    "                                       )\n",
    "               )\n",
    "    # assert 'authToken' in createUser.keys(), 'user has no token, {}'.format(createUser)\n",
    "    assert createUser['email'] == email, 'email does not match, {} {}'.format(createUser['email'], email)\n",
    "    assert createUser['firstName'] == firstName, 'firstName does not match'\n",
    "    assert createUser['lastName'] == lastName, 'lastName does not match'\n",
    "    assert createUser['login'] == login, 'login does not match, {} {}'.format(createUser['login'], login)\n",
    "    assert createUser['admin'] == False, 'user is an admin'\n",
    "    assert createUser['_modelType'] == 'user', 'model is not user'\n",
    "    assert createUser['public'] == False, 'user is public!'\n",
    "\n",
    "    return createUser"
   ]
  },
  {
   "cell_type": "code",
   "execution_count": 4,
   "metadata": {},
   "outputs": [],
   "source": [
    "def authenticate(user):\n",
    "    girder.authenticate(username=user['login'], password='password')"
   ]
  },
  {
   "cell_type": "code",
   "execution_count": 5,
   "metadata": {},
   "outputs": [],
   "source": [
    "userA = testCreateUser()\n",
    "userB = testCreateUser()\n",
    "\n",
    "#authenticate(userA)"
   ]
  },
  {
   "cell_type": "markdown",
   "metadata": {},
   "source": [
    "# Get applets when the user doesn't have any"
   ]
  },
  {
   "cell_type": "code",
   "execution_count": 6,
   "metadata": {},
   "outputs": [],
   "source": [
    "def getAppletsNewUser(new_user):\n",
    "    girder.authenticate(username=new_user['login'], password='password')\n",
    "    appletList = girder.get('user/applets')\n",
    "    assert len(appletList) == 0, 'a new user should have an empty list of applets. we get {}'.format(appletList)\n",
    "    return 1"
   ]
  },
  {
   "cell_type": "code",
   "execution_count": 7,
   "metadata": {},
   "outputs": [
    {
     "data": {
      "text/plain": [
       "1"
      ]
     },
     "execution_count": 7,
     "metadata": {},
     "output_type": "execute_result"
    }
   ],
   "source": [
    "getAppletsNewUser(userA)"
   ]
  },
  {
   "cell_type": "markdown",
   "metadata": {},
   "source": [
    "# get Applet by ID\n",
    "\n",
    "want to check recently added applet here"
   ]
  },
  {
   "cell_type": "code",
   "execution_count": 8,
   "metadata": {},
   "outputs": [],
   "source": [
    "def getAppletById(user, ar):\n",
    "    girder.authenticate(username=user['login'], password='password')\n",
    "    res = girder.get('applet/{}'.format(ar['_id']))\n",
    "    assert res['applet']['_id'].split('applet/')[1] == ar['_id'], 'applet ids are not the same'\n",
    "    return 1"
   ]
  },
  {
   "cell_type": "markdown",
   "metadata": {},
   "source": [
    "# Add an applet"
   ]
  },
  {
   "cell_type": "markdown",
   "metadata": {},
   "source": [
    "activity set info is below:"
   ]
  },
  {
   "cell_type": "code",
   "execution_count": 9,
   "metadata": {},
   "outputs": [],
   "source": [
    "activitySetUrl = 'https://raw.githubusercontent.com/ReproNim/schema-standardization/master/activity-sets/ema-hbn/ema-hbn_schema'\n",
    "\n",
    "act1 = 'https://raw.githubusercontent.com/ReproNim/schema-standardization/master/activities/EmaHBNEvening/ema_evening_schema'\n",
    "act2 = 'https://raw.githubusercontent.com/ReproNim/schema-standardization/master/activities/EmaHBNMorning/ema_morning_schema'\n",
    "\n",
    "act1Item = 'https://raw.githubusercontent.com/ReproNim/schema-standardization/master/activities/EmaHBNEvening/items/good_bad_day'\n",
    "act2Item = 'https://raw.githubusercontent.com/ReproNim/schema-standardization/master/activities/EmaHBNMorning/items/sleeping_aids'"
   ]
  },
  {
   "cell_type": "code",
   "execution_count": 10,
   "metadata": {},
   "outputs": [],
   "source": [
    "nestedActivitySet = 'https://raw.githubusercontent.com/ReproNim/schema-standardization/master/activity-sets/pediatric-screener/pediatric-screener_schema'\n",
    "\n",
    "nact1 = 'https://raw.githubusercontent.com/ReproNim/schema-standardization/master/activities/PediatricScreener-Parent/pediatric_screener_parent_schema'\n",
    "nact2 = 'https://raw.githubusercontent.com/ReproNim/schema-standardization/master/activities/PediatricScreener-SelfReport/pediatric_screener_selfreport_schema'\n",
    "\n",
    "nact1Item = 'https://raw.githubusercontent.com/ReproNim/schema-standardization/master/activities/PediatricScreener-Parent/items/fidgety'\n",
    "nact2Item = 'https://raw.githubusercontent.com/ReproNim/schema-standardization/master/activities/PediatricScreener-SelfReport/items/having_less_fun'\n",
    "\n",
    "\n"
   ]
  },
  {
   "cell_type": "code",
   "execution_count": 11,
   "metadata": {},
   "outputs": [],
   "source": [
    "def addApplet(new_user, activitySetUrl):\n",
    "    girder.authenticate(username=new_user['login'], password='password')\n",
    "\n",
    "    # TODO: create an activity-set that JUST for testing.\n",
    "    # make sure it has all the weird qualities that can break\n",
    "\n",
    "\n",
    "    # for now, lets do the mindlogger demo\n",
    "    activitySetUrl = activitySetUrl\n",
    "    randomAS = np.random.randint(1000000)\n",
    "    ar = girder.post('applet', parameters=dict(activitySetUrl = activitySetUrl, name='testActivitySet{}'.format(randomAS)))\n",
    "\n",
    "    assert ar['_id'], 'there is no ID!'\n",
    "    assert ar['meta']['activitySet']['url'] == activitySetUrl, 'the URLS do not match! {} {}'.format(ar['meta']['activitySet']['url'], activitySetUrl)\n",
    "    \n",
    "    assert getAppletById(new_user, ar) == 1, 'something wrong with getAppletById'\n",
    "    return ar"
   ]
  },
  {
   "cell_type": "code",
   "execution_count": 12,
   "metadata": {},
   "outputs": [],
   "source": [
    "# userA_applets = addApplet(userA, activitySetUrl)\n",
    "userA_applets = addApplet(userA, nestedActivitySet)"
   ]
  },
  {
   "cell_type": "code",
   "execution_count": 13,
   "metadata": {},
   "outputs": [
    {
     "data": {
      "text/plain": [
       "[{'id': '5d8a55f46ea03b31fd5a39fa', 'subject': None}]"
      ]
     },
     "execution_count": 13,
     "metadata": {},
     "output_type": "execute_result"
    }
   ],
   "source": [
    "userA_applets['roles']['reviewer']['groups']"
   ]
  },
  {
   "cell_type": "code",
   "execution_count": 14,
   "metadata": {},
   "outputs": [],
   "source": [
    "def getAppletsUser(user, n=1):\n",
    "    girder.authenticate(username=user['login'], password='password')\n",
    "    appletList = girder.get('user/applets')\n",
    "    assert len(appletList) == n, 'a new user should have {} applets. we get {}'.format(n, len(appletList))\n",
    "    return 1"
   ]
  },
  {
   "cell_type": "code",
   "execution_count": 15,
   "metadata": {},
   "outputs": [
    {
     "data": {
      "text/plain": [
       "1"
      ]
     },
     "execution_count": 15,
     "metadata": {},
     "output_type": "execute_result"
    }
   ],
   "source": [
    "getAppletsUser(userA, 1)"
   ]
  },
  {
   "cell_type": "markdown",
   "metadata": {},
   "source": [
    "### test the expanded applet with nested sub-activities"
   ]
  },
  {
   "cell_type": "code",
   "execution_count": 16,
   "metadata": {},
   "outputs": [],
   "source": [
    "# TODO: specify the applet instead of using the first one.\n",
    "def getExpandedApplet(userA):\n",
    "    authenticate(userA)\n",
    "    expandedApplet = girder.get('user/applets')[0]\n",
    "    return expandedApplet"
   ]
  },
  {
   "cell_type": "code",
   "execution_count": 17,
   "metadata": {},
   "outputs": [],
   "source": [
    "expApplet = getExpandedApplet(userA)"
   ]
  },
  {
   "cell_type": "code",
   "execution_count": 18,
   "metadata": {},
   "outputs": [],
   "source": [
    "assert len(expApplet['items']) == 59, 'there should be a total of 59 items for the whole applet'"
   ]
  },
  {
   "cell_type": "code",
   "execution_count": 19,
   "metadata": {},
   "outputs": [],
   "source": [
    "assert len(expApplet['activities']) == 8, 'there should be 8 activities for the whole applet, but some are sub-activities'"
   ]
  },
  {
   "cell_type": "code",
   "execution_count": null,
   "metadata": {},
   "outputs": [],
   "source": []
  },
  {
   "cell_type": "markdown",
   "metadata": {},
   "source": [
    "### Refresh an applet"
   ]
  },
  {
   "cell_type": "code",
   "execution_count": 20,
   "metadata": {},
   "outputs": [],
   "source": [
    "def refreshApplet(userA, userA_applets):\n",
    "    authenticate(userA)\n",
    "    appletId = userA_applets['_id']\n",
    "    refreshResp = girder.get('applet/{}?refreshCache=true'.format(appletId))\n",
    "    # TODO: somehow check that the refresh actually worked?\n",
    "    return refreshResp"
   ]
  },
  {
   "cell_type": "code",
   "execution_count": 21,
   "metadata": {
    "scrolled": false
   },
   "outputs": [],
   "source": [
    "refreshed = refreshApplet(userA, userA_applets)"
   ]
  },
  {
   "cell_type": "code",
   "execution_count": 22,
   "metadata": {},
   "outputs": [
    {
     "data": {
      "text/plain": [
       "'https://raw.githubusercontent.com/ReproNim/schema-standardization/master/activity-sets/pediatric-screener/pediatric-screener_schema'"
      ]
     },
     "execution_count": 22,
     "metadata": {},
     "output_type": "execute_result"
    }
   ],
   "source": [
    "refreshed['applet']['url']"
   ]
  },
  {
   "cell_type": "markdown",
   "metadata": {},
   "source": [
    "### add a schedule"
   ]
  },
  {
   "cell_type": "code",
   "execution_count": 23,
   "metadata": {},
   "outputs": [],
   "source": [
    "def addSchedule(userA, userA_applets):\n",
    "    scheduleString = \"\"\"{\"type\":2,\"size\":1,\"fill\":true,\"minimumSize\":0,\"repeatCovers\":true,\"listTimes\":false,\"eventsOutside\":false,\"updateRows\":false,\"updateColumns\":false,\"around\":1567321200000,\"events\":[{\"data\":{\"title\":\"EMA: Morning\",\"description\":\"\",\"location\":\"\",\"color\":\"#673AB7\",\"forecolor\":\"#ffffff\",\"calendar\":\"\",\"busy\":true,\"icon\":\"\",\"URI\":\"http://repronim.org/schema-standardization/activity-sets/mindlogger-demo/mindlogger-demo_schema\",\"notifications\":[{\"start\":\"09:00\",\"end\":null,\"random\":false,\"notifyIfIncomplete\":false}],\"useNotifications\":true},\"schedule\":{}}]}\n",
    "    \"\"\"\n",
    "    schedule = simplejson.loads(scheduleString)\n",
    "    authenticate(userA)\n",
    "    appletId = userA_applets['_id']\n",
    "    putResp = girder.put('applet/{}/constraints/'.format(appletId), data=dict(schedule=simplejson.dumps(schedule)))\n",
    "    assert putResp['applet']['schedule'] == schedule"
   ]
  },
  {
   "cell_type": "code",
   "execution_count": 24,
   "metadata": {},
   "outputs": [],
   "source": [
    "addSchedule(userA, userA_applets)"
   ]
  },
  {
   "cell_type": "markdown",
   "metadata": {},
   "source": [
    "# Invite userB to userA's applet"
   ]
  },
  {
   "cell_type": "code",
   "execution_count": 25,
   "metadata": {},
   "outputs": [],
   "source": [
    "def inviteUserToApplet(userA, userA_applets, userB):\n",
    "    groupId = userA_applets['roles']['user']['groups'][0]['id']\n",
    "    authenticate(userA)\n",
    "    inviteResp = girder.post('group/{}/invitation'.format(groupId), {\n",
    "        \"email\": userB['email']\n",
    "    })\n",
    "    assert inviteResp['public'] == False, 'invite is public!'\n",
    "    assert len(inviteResp['access']['users']), 'ths user was not added'\n",
    "    return inviteResp"
   ]
  },
  {
   "cell_type": "code",
   "execution_count": 26,
   "metadata": {},
   "outputs": [],
   "source": [
    "inviteB = inviteUserToApplet(userA, userA_applets, userB)"
   ]
  },
  {
   "cell_type": "markdown",
   "metadata": {},
   "source": [
    "## Get a group's pending invites and check for a user"
   ]
  },
  {
   "cell_type": "code",
   "execution_count": 27,
   "metadata": {},
   "outputs": [],
   "source": [
    "def checkInvitesForUser(userA, userA_applets, userB):\n",
    "    authenticate(userA)\n",
    "    groupId = userA_applets['roles']['user']['groups'][0]['id']\n",
    "    pendingInvites = girder.get('group/{}/invitation'.format(groupId))\n",
    "    value = False\n",
    "    for invite in pendingInvites:\n",
    "        if invite['email'] == userB['email']:\n",
    "            value = True\n",
    "            break\n",
    "    assert value, \"email not in list of pending invites, {}\".format(pendingInvites)\n",
    "    return 1"
   ]
  },
  {
   "cell_type": "code",
   "execution_count": 28,
   "metadata": {},
   "outputs": [
    {
     "data": {
      "text/plain": [
       "1"
      ]
     },
     "execution_count": 28,
     "metadata": {},
     "output_type": "execute_result"
    }
   ],
   "source": [
    "checkInvitesForUser(userA, userA_applets, userB)"
   ]
  },
  {
   "cell_type": "markdown",
   "metadata": {},
   "source": [
    "### Accept an applet invite"
   ]
  },
  {
   "cell_type": "code",
   "execution_count": 29,
   "metadata": {},
   "outputs": [],
   "source": [
    "def checkForInvite(userB, userA_applets):\n",
    "    authenticate(userB)\n",
    "    pendingInvitesForUser = girder.get('user/invites')\n",
    "    groupId = userA_applets['roles']['user']['groups'][0]['id']\n",
    "    assert len(pendingInvitesForUser), \"this user has no invites\"\n",
    "    assert pendingInvitesForUser[0]['_id'] == groupId, \"this user doesn't have the invite you expect\"\n",
    "    return groupId"
   ]
  },
  {
   "cell_type": "code",
   "execution_count": 30,
   "metadata": {},
   "outputs": [],
   "source": [
    "def acceptAppletInvite(userB, userA_applets):\n",
    "    groupId = checkForInvite(userB, userA_applets)\n",
    "    authenticate(userB)\n",
    "    resp = girder.post('group/{}/member'.format(groupId))\n",
    "    assert resp['_modelType'] == 'group', \"something weird about response, {}\".format(resp)\n",
    "    return 1"
   ]
  },
  {
   "cell_type": "code",
   "execution_count": 31,
   "metadata": {},
   "outputs": [
    {
     "data": {
      "text/plain": [
       "1"
      ]
     },
     "execution_count": 31,
     "metadata": {},
     "output_type": "execute_result"
    }
   ],
   "source": [
    "acceptAppletInvite(userB, userA_applets)"
   ]
  },
  {
   "cell_type": "markdown",
   "metadata": {},
   "source": [
    "get a list of applet users (manager)"
   ]
  },
  {
   "cell_type": "code",
   "execution_count": 32,
   "metadata": {},
   "outputs": [],
   "source": [
    "def getUserTable(userA, userA_applets):\n",
    "    authenticate(userA)\n",
    "    appletUsers = girder.get('applet/{}/users'.format(userA_applets['_id']))\n",
    "    return appletUsers"
   ]
  },
  {
   "cell_type": "markdown",
   "metadata": {},
   "source": [
    "check that userB has an applet"
   ]
  },
  {
   "cell_type": "code",
   "execution_count": 33,
   "metadata": {},
   "outputs": [
    {
     "data": {
      "text/plain": [
       "1"
      ]
     },
     "execution_count": 33,
     "metadata": {},
     "output_type": "execute_result"
    }
   ],
   "source": [
    "getAppletsUser(userB, 1)"
   ]
  },
  {
   "cell_type": "markdown",
   "metadata": {},
   "source": [
    "### Invite someone who does not have an account yet"
   ]
  },
  {
   "cell_type": "code",
   "execution_count": 34,
   "metadata": {},
   "outputs": [],
   "source": [
    "userCemail = 'randomuserc{}@test.com'.format(np.random.randint(1000000))\n",
    "inviteC = inviteUserToApplet(userA, userA_applets, {'email': userCemail})"
   ]
  },
  {
   "cell_type": "code",
   "execution_count": 35,
   "metadata": {},
   "outputs": [
    {
     "data": {
      "text/plain": [
       "{'_accessLevel': 2,\n",
       " '_id': '5d8a55f46ea03b31fd5a39f7',\n",
       " '_modelType': 'group',\n",
       " 'access': {'users': [{'flags': [],\n",
       "    'id': '5d8a55e86ea03b31fd5a39ef',\n",
       "    'level': 2}]},\n",
       " 'created': '2019-09-24T17:44:20.394000+00:00',\n",
       " 'description': '',\n",
       " 'name': 'Default testActivitySet492453 (5d8a55f46ea03b31fd5a39f6) Users',\n",
       " 'openRegistration': False,\n",
       " 'public': False,\n",
       " 'requests': [],\n",
       " 'updated': '2019-09-24T17:45:31.339680+00:00'}"
      ]
     },
     "execution_count": 35,
     "metadata": {},
     "output_type": "execute_result"
    }
   ],
   "source": [
    "inviteC"
   ]
  },
  {
   "cell_type": "code",
   "execution_count": 36,
   "metadata": {},
   "outputs": [],
   "source": [
    "def checkAppletUserTableForUser(userA, userA_applets, userCemail):\n",
    "    ut = getUserTable(userA, userA_applets)\n",
    "    assert len(list(filter(lambda x: x['email'] == userCemail, ut))) == 1\n",
    "    return ut"
   ]
  },
  {
   "cell_type": "code",
   "execution_count": 37,
   "metadata": {},
   "outputs": [
    {
     "data": {
      "text/plain": [
       "[{'_id': '5d8a563b6ea03b31fd5a3b8a',\n",
       "  'email': 'randomuserc405984@test.com',\n",
       "  'groups': [{'_id': '5d8a55f46ea03b31fd5a39f7',\n",
       "    'name': 'Default testActivitySet492453 (5d8a55f46ea03b31fd5a39f6) Users',\n",
       "    'role': 'user',\n",
       "    'status': 'pending'}]},\n",
       " {'_id': '5d8a55e86ea03b31fd5a39ef',\n",
       "  'email': 'testemail380809@testemail.com',\n",
       "  'groups': [{'_id': '5d8a55f46ea03b31fd5a39f7',\n",
       "    'name': 'Default testActivitySet492453 (5d8a55f46ea03b31fd5a39f6) Users',\n",
       "    'role': 'user',\n",
       "    'status': 'active'}]},\n",
       " {'_id': '5d8a55e86ea03b31fd5a39f2',\n",
       "  'email': 'testemail582186@testemail.com',\n",
       "  'groups': [{'_id': '5d8a55f46ea03b31fd5a39f7',\n",
       "    'name': 'Default testActivitySet492453 (5d8a55f46ea03b31fd5a39f6) Users',\n",
       "    'role': 'user',\n",
       "    'status': 'active'}]},\n",
       " {'_id': '5d8a55e86ea03b31fd5a39ef',\n",
       "  'email': 'testemail380809@testemail.com',\n",
       "  'groups': [{'_id': '5d8a55f46ea03b31fd5a39f8',\n",
       "    'name': 'Default testActivitySet492453 (5d8a55f46ea03b31fd5a39f6) Editors',\n",
       "    'role': 'editor',\n",
       "    'status': 'active'}]},\n",
       " {'_id': '5d8a55e86ea03b31fd5a39ef',\n",
       "  'email': 'testemail380809@testemail.com',\n",
       "  'groups': [{'_id': '5d8a55f46ea03b31fd5a39f9',\n",
       "    'name': 'Default testActivitySet492453 (5d8a55f46ea03b31fd5a39f6) Managers',\n",
       "    'role': 'manager',\n",
       "    'status': 'active'}]},\n",
       " {'_id': '5d8a55e86ea03b31fd5a39ef',\n",
       "  'email': 'testemail380809@testemail.com',\n",
       "  'groups': [{'_id': '5d8a55f46ea03b31fd5a39fa',\n",
       "    'name': 'Default testActivitySet492453 (5d8a55f46ea03b31fd5a39f6) Reviewers',\n",
       "    'role': 'reviewer',\n",
       "    'status': 'active'}]}]"
      ]
     },
     "execution_count": 37,
     "metadata": {},
     "output_type": "execute_result"
    }
   ],
   "source": [
    "checkAppletUserTableForUser(userA, userA_applets, userCemail)"
   ]
  },
  {
   "cell_type": "markdown",
   "metadata": {},
   "source": [
    "create that person's account"
   ]
  },
  {
   "cell_type": "code",
   "execution_count": 38,
   "metadata": {},
   "outputs": [],
   "source": [
    "userC = testCreateUser(userCemail)"
   ]
  },
  {
   "cell_type": "markdown",
   "metadata": {},
   "source": [
    "and check if they have an invite"
   ]
  },
  {
   "cell_type": "code",
   "execution_count": 39,
   "metadata": {},
   "outputs": [
    {
     "data": {
      "text/plain": [
       "1"
      ]
     },
     "execution_count": 39,
     "metadata": {},
     "output_type": "execute_result"
    }
   ],
   "source": [
    "checkInvitesForUser(userA, userA_applets, userC)"
   ]
  },
  {
   "cell_type": "code",
   "execution_count": 40,
   "metadata": {},
   "outputs": [
    {
     "data": {
      "text/plain": [
       "'5d8a55f46ea03b31fd5a39f7'"
      ]
     },
     "execution_count": 40,
     "metadata": {},
     "output_type": "execute_result"
    }
   ],
   "source": [
    "checkForInvite(userC, userA_applets)"
   ]
  },
  {
   "cell_type": "code",
   "execution_count": 41,
   "metadata": {},
   "outputs": [
    {
     "data": {
      "text/plain": [
       "1"
      ]
     },
     "execution_count": 41,
     "metadata": {},
     "output_type": "execute_result"
    }
   ],
   "source": [
    "acceptAppletInvite(userC, userA_applets)"
   ]
  },
  {
   "cell_type": "markdown",
   "metadata": {},
   "source": [
    "check that userC has applets"
   ]
  },
  {
   "cell_type": "code",
   "execution_count": 42,
   "metadata": {},
   "outputs": [
    {
     "data": {
      "text/plain": [
       "1"
      ]
     },
     "execution_count": 42,
     "metadata": {},
     "output_type": "execute_result"
    }
   ],
   "source": [
    "getAppletsUser(userC, 1)"
   ]
  },
  {
   "cell_type": "markdown",
   "metadata": {},
   "source": [
    "# Post a response"
   ]
  },
  {
   "cell_type": "code",
   "execution_count": 43,
   "metadata": {},
   "outputs": [],
   "source": [
    "def postResponse(userA, actURI, itemURI):\n",
    "    authenticate(userA)\n",
    "    expandedApplet = girder.get('user/applets')[0]\n",
    "    appletId = expandedApplet['applet']['_id'].split('/')[1]\n",
    "    a = expandedApplet['activities'][actURI]\n",
    "    activityId = a['_id'].split('/')[1]\n",
    "    # itemURI = itemURI\n",
    "    response = {}\n",
    "    response[itemURI] = np.random.randint(2)\n",
    "\n",
    "    resp = girder.post('response/{}/{}'.format(appletId, activityId),\n",
    "                       data={'metadata': simplejson.dumps(\n",
    "                       {\n",
    "                           'activity': activityId,\n",
    "                           'applet': appletId,\n",
    "                           'responses': response\n",
    "                       }\n",
    "                       )})\n",
    "    assert resp['_id'], 'response is weird and does not have an id'\n",
    "    assert 'activity' in resp['meta'].keys(), 'response does not have an activity'\n",
    "    assert 'applet' in resp['meta'].keys(), 'response does not have an applet'\n",
    "    assert 'responses' in resp['meta'].keys(), 'response does not have an response'\n",
    "    return resp"
   ]
  },
  {
   "cell_type": "code",
   "execution_count": 44,
   "metadata": {},
   "outputs": [],
   "source": [
    "# postResponse(userA, act1, act1Item)\n",
    "# postResponse(userA, act2, act2Item)\n",
    "\n",
    "# Note: posting the response under the top-level activity, not the sub-activity.\n",
    "\n",
    "postResponse(userA, nact1, nact1Item)\n",
    "postResponse(userA, nact2, nact2Item)\n",
    "\n",
    "for i in range(5):\n",
    "\n",
    "    postResponse(userB, nact1, nact1Item)\n",
    "    postResponse(userB, nact2, nact2Item)\n",
    "\n",
    "    postResponse(userC, nact1, nact1Item)\n",
    "    postResponse(userC, nact2, nact2Item)\n",
    "\n",
    "# postResponse(userB)\n",
    "# postResponse(userC)"
   ]
  },
  {
   "cell_type": "markdown",
   "metadata": {},
   "source": [
    "# As userA, get all data from the applet"
   ]
  },
  {
   "cell_type": "code",
   "execution_count": 101,
   "metadata": {
    "scrolled": false
   },
   "outputs": [
    {
     "data": {
      "text/plain": [
       "22"
      ]
     },
     "execution_count": 101,
     "metadata": {},
     "output_type": "execute_result"
    }
   ],
   "source": [
    "def getDataForApplet(userA, userA_applets):\n",
    "    authenticate(userA)\n",
    "    appletId = userA_applets['_id']\n",
    "    resp = girder.get('response', parameters={\n",
    "        'applet': appletId\n",
    "    })\n",
    "    return resp\n",
    "\n",
    "\n",
    "resp = getDataForApplet(userA, userA_applets)\n",
    "len(resp)"
   ]
  },
  {
   "cell_type": "code",
   "execution_count": 103,
   "metadata": {},
   "outputs": [
    {
     "data": {
      "text/html": [
       "<div>\n",
       "<style scoped>\n",
       "    .dataframe tbody tr th:only-of-type {\n",
       "        vertical-align: middle;\n",
       "    }\n",
       "\n",
       "    .dataframe tbody tr th {\n",
       "        vertical-align: top;\n",
       "    }\n",
       "\n",
       "    .dataframe thead th {\n",
       "        text-align: right;\n",
       "    }\n",
       "</style>\n",
       "<table border=\"1\" class=\"dataframe\">\n",
       "  <thead>\n",
       "    <tr style=\"text-align: right;\">\n",
       "      <th></th>\n",
       "      <th>itemURI</th>\n",
       "      <th>schema:endDate</th>\n",
       "      <th>schema:startDate</th>\n",
       "      <th>userId</th>\n",
       "      <th>value</th>\n",
       "    </tr>\n",
       "  </thead>\n",
       "  <tbody>\n",
       "    <tr>\n",
       "      <td>0</td>\n",
       "      <td>https://raw.githubusercontent.com/ReproNim/sch...</td>\n",
       "      <td>2019-09-24T17:45:50.725000</td>\n",
       "      <td>2019-09-24T17:45:50.725000</td>\n",
       "      <td>randomuserc405984@test.com</td>\n",
       "      <td>0</td>\n",
       "    </tr>\n",
       "    <tr>\n",
       "      <td>1</td>\n",
       "      <td>https://raw.githubusercontent.com/ReproNim/sch...</td>\n",
       "      <td>2019-09-24T17:45:50.378000</td>\n",
       "      <td>2019-09-24T17:45:50.378000</td>\n",
       "      <td>randomuserc405984@test.com</td>\n",
       "      <td>0</td>\n",
       "    </tr>\n",
       "    <tr>\n",
       "      <td>2</td>\n",
       "      <td>https://raw.githubusercontent.com/ReproNim/sch...</td>\n",
       "      <td>2019-09-24T17:45:50.019000</td>\n",
       "      <td>2019-09-24T17:45:50.019000</td>\n",
       "      <td>testemail582186@testemail.com</td>\n",
       "      <td>1</td>\n",
       "    </tr>\n",
       "    <tr>\n",
       "      <td>3</td>\n",
       "      <td>https://raw.githubusercontent.com/ReproNim/sch...</td>\n",
       "      <td>2019-09-24T17:45:49.671000</td>\n",
       "      <td>2019-09-24T17:45:49.671000</td>\n",
       "      <td>testemail582186@testemail.com</td>\n",
       "      <td>0</td>\n",
       "    </tr>\n",
       "    <tr>\n",
       "      <td>4</td>\n",
       "      <td>https://raw.githubusercontent.com/ReproNim/sch...</td>\n",
       "      <td>2019-09-24T17:45:49.320000</td>\n",
       "      <td>2019-09-24T17:45:49.320000</td>\n",
       "      <td>randomuserc405984@test.com</td>\n",
       "      <td>1</td>\n",
       "    </tr>\n",
       "  </tbody>\n",
       "</table>\n",
       "</div>"
      ],
      "text/plain": [
       "                                             itemURI  \\\n",
       "0  https://raw.githubusercontent.com/ReproNim/sch...   \n",
       "1  https://raw.githubusercontent.com/ReproNim/sch...   \n",
       "2  https://raw.githubusercontent.com/ReproNim/sch...   \n",
       "3  https://raw.githubusercontent.com/ReproNim/sch...   \n",
       "4  https://raw.githubusercontent.com/ReproNim/sch...   \n",
       "\n",
       "               schema:endDate            schema:startDate  \\\n",
       "0  2019-09-24T17:45:50.725000  2019-09-24T17:45:50.725000   \n",
       "1  2019-09-24T17:45:50.378000  2019-09-24T17:45:50.378000   \n",
       "2  2019-09-24T17:45:50.019000  2019-09-24T17:45:50.019000   \n",
       "3  2019-09-24T17:45:49.671000  2019-09-24T17:45:49.671000   \n",
       "4  2019-09-24T17:45:49.320000  2019-09-24T17:45:49.320000   \n",
       "\n",
       "                          userId  value  \n",
       "0     randomuserc405984@test.com      0  \n",
       "1     randomuserc405984@test.com      0  \n",
       "2  testemail582186@testemail.com      1  \n",
       "3  testemail582186@testemail.com      0  \n",
       "4     randomuserc405984@test.com      1  "
      ]
     },
     "execution_count": 103,
     "metadata": {},
     "output_type": "execute_result"
    }
   ],
   "source": [
    "df = pd.DataFrame(resp)\n",
    "df.head()"
   ]
  },
  {
   "cell_type": "markdown",
   "metadata": {},
   "source": [
    "### Make userC a reviewer, and then make sure the userId is not an email address"
   ]
  },
  {
   "cell_type": "code",
   "execution_count": 80,
   "metadata": {},
   "outputs": [],
   "source": [
    "authenticate(userA)\n",
    "reviewerGroupId = userA_applets['roles']['reviewer']['groups'][0]['id']\n",
    "userCReviewerInvite = girder.post('group/{}/invitation'.format(reviewerGroupId), {'email': userC['email']})"
   ]
  },
  {
   "cell_type": "code",
   "execution_count": 81,
   "metadata": {},
   "outputs": [
    {
     "data": {
      "text/plain": [
       "{'_accessLevel': 2,\n",
       " '_id': '5d8a55f46ea03b31fd5a39fa',\n",
       " '_modelType': 'group',\n",
       " 'access': {'groups': [],\n",
       "  'users': [{'email': 'testemail380809@testemail.com',\n",
       "    'flags': [],\n",
       "    'id': '5d8a55e86ea03b31fd5a39ef',\n",
       "    'level': 2,\n",
       "    'login': 'testuser380809',\n",
       "    'name': 'test user'}]},\n",
       " 'created': '2019-09-24T17:44:20.411000+00:00',\n",
       " 'description': '',\n",
       " 'name': 'Default testActivitySet492453 (5d8a55f46ea03b31fd5a39f6) Reviewers',\n",
       " 'openRegistration': False,\n",
       " 'public': True,\n",
       " 'requests': [],\n",
       " 'updated': '2019-09-24T17:44:20.411000+00:00'}"
      ]
     },
     "execution_count": 81,
     "metadata": {},
     "output_type": "execute_result"
    }
   ],
   "source": [
    "userCReviewerInvite"
   ]
  },
  {
   "cell_type": "code",
   "execution_count": 82,
   "metadata": {},
   "outputs": [
    {
     "data": {
      "text/plain": [
       "{'_accessLevel': 0,\n",
       " '_id': '5d8a55f46ea03b31fd5a39fa',\n",
       " '_modelType': 'group',\n",
       " 'name': 'Default testActivitySet492453 (5d8a55f46ea03b31fd5a39f6) Reviewers'}"
      ]
     },
     "execution_count": 82,
     "metadata": {},
     "output_type": "execute_result"
    }
   ],
   "source": [
    "authenticate(userC)\n",
    "girder.post('group/{}/member'.format(reviewerGroupId))"
   ]
  },
  {
   "cell_type": "code",
   "execution_count": 83,
   "metadata": {},
   "outputs": [
    {
     "data": {
      "text/plain": [
       "[{'_id': '5d8a55e86ea03b31fd5a39ef',\n",
       "  'email': 'testemail380809@testemail.com',\n",
       "  'groups': [{'_id': '5d8a55f46ea03b31fd5a39f7',\n",
       "    'name': 'Default testActivitySet492453 (5d8a55f46ea03b31fd5a39f6) Users',\n",
       "    'role': 'user',\n",
       "    'status': 'active'}]},\n",
       " {'_id': '5d8a55e86ea03b31fd5a39f2',\n",
       "  'email': 'testemail582186@testemail.com',\n",
       "  'groups': [{'_id': '5d8a55f46ea03b31fd5a39f7',\n",
       "    'name': 'Default testActivitySet492453 (5d8a55f46ea03b31fd5a39f6) Users',\n",
       "    'role': 'user',\n",
       "    'status': 'active'}]},\n",
       " {'_id': '5d8a563b6ea03b31fd5a3b8b',\n",
       "  'email': 'randomuserc405984@test.com',\n",
       "  'groups': [{'_id': '5d8a55f46ea03b31fd5a39f7',\n",
       "    'name': 'Default testActivitySet492453 (5d8a55f46ea03b31fd5a39f6) Users',\n",
       "    'role': 'user',\n",
       "    'status': 'active'}]},\n",
       " {'_id': '5d8a55e86ea03b31fd5a39ef',\n",
       "  'email': 'testemail380809@testemail.com',\n",
       "  'groups': [{'_id': '5d8a55f46ea03b31fd5a39f8',\n",
       "    'name': 'Default testActivitySet492453 (5d8a55f46ea03b31fd5a39f6) Editors',\n",
       "    'role': 'editor',\n",
       "    'status': 'active'}]},\n",
       " {'_id': '5d8a55e86ea03b31fd5a39ef',\n",
       "  'email': 'testemail380809@testemail.com',\n",
       "  'groups': [{'_id': '5d8a55f46ea03b31fd5a39f9',\n",
       "    'name': 'Default testActivitySet492453 (5d8a55f46ea03b31fd5a39f6) Managers',\n",
       "    'role': 'manager',\n",
       "    'status': 'active'}]},\n",
       " {'_id': '5d8a55e86ea03b31fd5a39ef',\n",
       "  'email': 'testemail380809@testemail.com',\n",
       "  'groups': [{'_id': '5d8a55f46ea03b31fd5a39fa',\n",
       "    'name': 'Default testActivitySet492453 (5d8a55f46ea03b31fd5a39f6) Reviewers',\n",
       "    'role': 'reviewer',\n",
       "    'status': 'active'}]},\n",
       " {'_id': '5d8a563b6ea03b31fd5a3b8b',\n",
       "  'email': 'randomuserc405984@test.com',\n",
       "  'groups': [{'_id': '5d8a55f46ea03b31fd5a39fa',\n",
       "    'name': 'Default testActivitySet492453 (5d8a55f46ea03b31fd5a39f6) Reviewers',\n",
       "    'role': 'reviewer',\n",
       "    'status': 'active'}]}]"
      ]
     },
     "execution_count": 83,
     "metadata": {},
     "output_type": "execute_result"
    }
   ],
   "source": [
    "getUserTable(userA, userA_applets)"
   ]
  },
  {
   "cell_type": "markdown",
   "metadata": {},
   "source": [
    "#### make sure that userC can't see the email address"
   ]
  },
  {
   "cell_type": "code",
   "execution_count": 96,
   "metadata": {},
   "outputs": [
    {
     "data": {
      "text/html": [
       "<div>\n",
       "<style scoped>\n",
       "    .dataframe tbody tr th:only-of-type {\n",
       "        vertical-align: middle;\n",
       "    }\n",
       "\n",
       "    .dataframe tbody tr th {\n",
       "        vertical-align: top;\n",
       "    }\n",
       "\n",
       "    .dataframe thead th {\n",
       "        text-align: right;\n",
       "    }\n",
       "</style>\n",
       "<table border=\"1\" class=\"dataframe\">\n",
       "  <thead>\n",
       "    <tr style=\"text-align: right;\">\n",
       "      <th></th>\n",
       "      <th>itemURI</th>\n",
       "      <th>schema:endDate</th>\n",
       "      <th>schema:startDate</th>\n",
       "      <th>userId</th>\n",
       "      <th>value</th>\n",
       "    </tr>\n",
       "  </thead>\n",
       "  <tbody>\n",
       "    <tr>\n",
       "      <td>0</td>\n",
       "      <td>https://raw.githubusercontent.com/ReproNim/sch...</td>\n",
       "      <td>2019-09-24T17:45:50.725000</td>\n",
       "      <td>2019-09-24T17:45:50.725000</td>\n",
       "      <td>99f8d703aaf854a5536e26692f354af2</td>\n",
       "      <td>0</td>\n",
       "    </tr>\n",
       "    <tr>\n",
       "      <td>1</td>\n",
       "      <td>https://raw.githubusercontent.com/ReproNim/sch...</td>\n",
       "      <td>2019-09-24T17:45:50.378000</td>\n",
       "      <td>2019-09-24T17:45:50.378000</td>\n",
       "      <td>99f8d703aaf854a5536e26692f354af2</td>\n",
       "      <td>0</td>\n",
       "    </tr>\n",
       "    <tr>\n",
       "      <td>2</td>\n",
       "      <td>https://raw.githubusercontent.com/ReproNim/sch...</td>\n",
       "      <td>2019-09-24T17:45:50.019000</td>\n",
       "      <td>2019-09-24T17:45:50.019000</td>\n",
       "      <td>408e51b1ba3eb8b15df9a89102537c1f</td>\n",
       "      <td>1</td>\n",
       "    </tr>\n",
       "    <tr>\n",
       "      <td>3</td>\n",
       "      <td>https://raw.githubusercontent.com/ReproNim/sch...</td>\n",
       "      <td>2019-09-24T17:45:49.671000</td>\n",
       "      <td>2019-09-24T17:45:49.671000</td>\n",
       "      <td>408e51b1ba3eb8b15df9a89102537c1f</td>\n",
       "      <td>0</td>\n",
       "    </tr>\n",
       "    <tr>\n",
       "      <td>4</td>\n",
       "      <td>https://raw.githubusercontent.com/ReproNim/sch...</td>\n",
       "      <td>2019-09-24T17:45:49.320000</td>\n",
       "      <td>2019-09-24T17:45:49.320000</td>\n",
       "      <td>99f8d703aaf854a5536e26692f354af2</td>\n",
       "      <td>1</td>\n",
       "    </tr>\n",
       "  </tbody>\n",
       "</table>\n",
       "</div>"
      ],
      "text/plain": [
       "                                             itemURI  \\\n",
       "0  https://raw.githubusercontent.com/ReproNim/sch...   \n",
       "1  https://raw.githubusercontent.com/ReproNim/sch...   \n",
       "2  https://raw.githubusercontent.com/ReproNim/sch...   \n",
       "3  https://raw.githubusercontent.com/ReproNim/sch...   \n",
       "4  https://raw.githubusercontent.com/ReproNim/sch...   \n",
       "\n",
       "               schema:endDate            schema:startDate  \\\n",
       "0  2019-09-24T17:45:50.725000  2019-09-24T17:45:50.725000   \n",
       "1  2019-09-24T17:45:50.378000  2019-09-24T17:45:50.378000   \n",
       "2  2019-09-24T17:45:50.019000  2019-09-24T17:45:50.019000   \n",
       "3  2019-09-24T17:45:49.671000  2019-09-24T17:45:49.671000   \n",
       "4  2019-09-24T17:45:49.320000  2019-09-24T17:45:49.320000   \n",
       "\n",
       "                             userId  value  \n",
       "0  99f8d703aaf854a5536e26692f354af2      0  \n",
       "1  99f8d703aaf854a5536e26692f354af2      0  \n",
       "2  408e51b1ba3eb8b15df9a89102537c1f      1  \n",
       "3  408e51b1ba3eb8b15df9a89102537c1f      0  \n",
       "4  99f8d703aaf854a5536e26692f354af2      1  "
      ]
     },
     "execution_count": 96,
     "metadata": {},
     "output_type": "execute_result"
    }
   ],
   "source": [
    "resp = getDataForApplet(userC, userA_applets)\n",
    "\n",
    "import pandas as pd\n",
    "\n",
    "df = pd.DataFrame(resp)\n",
    "df.head()"
   ]
  },
  {
   "cell_type": "markdown",
   "metadata": {},
   "source": [
    "### get last 7 days of responses"
   ]
  },
  {
   "cell_type": "code",
   "execution_count": 53,
   "metadata": {},
   "outputs": [
    {
     "data": {
      "text/plain": [
       "{'responses': {'https://raw.githubusercontent.com/ReproNim/schema-standardization/master/activities/PediatricScreener-Parent/items/fidgety': [{'date': '2019-09-24',\n",
       "    'value': 0}],\n",
       "  'https://raw.githubusercontent.com/ReproNim/schema-standardization/master/activities/PediatricScreener-SelfReport/items/having_less_fun': [{'date': '2019-09-24',\n",
       "    'value': 1}]}}"
      ]
     },
     "execution_count": 53,
     "metadata": {},
     "output_type": "execute_result"
    }
   ],
   "source": [
    "authenticate(userA)\n",
    "appletId = userA_applets['_id']\n",
    "last7 = girder.get('response/last7Days/{}'.format(appletId))\n",
    "last7"
   ]
  },
  {
   "cell_type": "markdown",
   "metadata": {},
   "source": [
    "### Remove an applet without removing data"
   ]
  },
  {
   "cell_type": "code",
   "execution_count": null,
   "metadata": {},
   "outputs": [],
   "source": [
    "def removeApplet(userB, userA_applets):\n",
    "    authenticate(userB)\n",
    "    groupId = userA_applets['roles']['user']['groups'][0]['id']\n",
    "    girder.delete('group/{}/member?delete=false'.format(groupId))\n",
    "    assert getAppletsUser(userB, 0), \"user still has the applet that should be deleted.\"\n",
    "\n",
    "removeApplet(userB, userA_applets)"
   ]
  },
  {
   "cell_type": "markdown",
   "metadata": {},
   "source": [
    "### Remove an applet and the data"
   ]
  },
  {
   "cell_type": "code",
   "execution_count": null,
   "metadata": {},
   "outputs": [],
   "source": [
    "def deleteApplet(userC, userA_applets):\n",
    "    authenticate(userC)\n",
    "    groupId = userA_applets['roles']['user']['groups'][0]['id']\n",
    "    girder.delete('group/{}/member?delete=true'.format(groupId))\n",
    "    assert getAppletsUser(userC, 0), \"user still has the applet that should be deleted.\"\n",
    "\n",
    "deleteApplet(userC, userA_applets)"
   ]
  },
  {
   "cell_type": "markdown",
   "metadata": {},
   "source": [
    "### Deactivate an applet as admin"
   ]
  },
  {
   "cell_type": "code",
   "execution_count": null,
   "metadata": {},
   "outputs": [],
   "source": [
    "def deactivateApplet(userA, userA_applets):\n",
    "    authenticate(userA)\n",
    "    girder.delete('applet/{}'.format(userA_applets['_id']))\n",
    "    assert getAppletsUser(userA, 0), \"user still has the applet that should be deleted.\"\n",
    "\n",
    "deactivateApplet(userA, userA_applets)"
   ]
  },
  {
   "cell_type": "markdown",
   "metadata": {},
   "source": [
    "# Delete a user"
   ]
  },
  {
   "cell_type": "code",
   "execution_count": null,
   "metadata": {},
   "outputs": [],
   "source": [
    "def testDeleteUser(new_user):\n",
    "\n",
    "    girder.authenticate(username=new_user['login'], password='password')\n",
    "\n",
    "    deleteUser = girder.delete('user/{}'.format(new_user['_id']))\n",
    "\n",
    "    assert deleteUser['message'] == 'Deleted user {}.'.format(new_user['login']), \"{} does not equal {}\".format(deleteUser['message'], 'Deleted user {}'.format(new_user['login']))\n",
    "    \n",
    "    return 1"
   ]
  },
  {
   "cell_type": "code",
   "execution_count": null,
   "metadata": {},
   "outputs": [],
   "source": [
    "testDeleteUser(userA)\n",
    "testDeleteUser(userB)\n",
    "testDeleteUser(userC)"
   ]
  },
  {
   "cell_type": "code",
   "execution_count": null,
   "metadata": {},
   "outputs": [],
   "source": []
  }
 ],
 "metadata": {
  "kernelspec": {
   "display_name": "Python 3",
   "language": "python",
   "name": "python3"
  },
  "language_info": {
   "codemirror_mode": {
    "name": "ipython",
    "version": 3
   },
   "file_extension": ".py",
   "mimetype": "text/x-python",
   "name": "python",
   "nbconvert_exporter": "python",
   "pygments_lexer": "ipython3",
   "version": "3.7.3"
  }
 },
 "nbformat": 4,
 "nbformat_minor": 2
}
