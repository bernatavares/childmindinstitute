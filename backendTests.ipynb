{
 "cells": [
  {
   "cell_type": "code",
   "execution_count": 5,
   "metadata": {},
   "outputs": [],
   "source": [
    "import girderformindlogger\n",
    "import girder_client as gc\n",
    "import pandas as pd\n",
    "import numpy as np\n",
    "import simplejson"
   ]
  },
  {
   "cell_type": "code",
   "execution_count": 6,
   "metadata": {},
   "outputs": [],
   "source": [
    "girder = gc.GirderClient(host=\"localhost\", port=8080)"
   ]
  },
  {
   "cell_type": "markdown",
   "metadata": {},
   "source": [
    "# Plan\n",
    "\n",
    "### Basics \n",
    "\n",
    "- [x] create a new user (userA)\n",
    "- [x] get userA's applets and make sure the list is empty\n",
    "- [x] userA creates an applet with an activity-set-url (url TBD)\n",
    "- [x] get userA's applets and make sure we have the applet they just created\n",
    "- [x] create userB\n",
    "- [x] userA invites userB to the applet\n",
    "- [x] make sure userB has an invite\n",
    "- [x] userB accepts their invite\n",
    "- [x] list userB's applets\n",
    "- [x] userA invites userC (by email) to the applet\n",
    "- [x] check that the applet user table has userC pending\n",
    "- [x] create userC with the same email\n",
    "- [x] check that userC has an invite\n",
    "- [x] accept userC's applet invite\n",
    "- [x] check userC's applets\n",
    "- [x] userA, B and C submit responses to each activity in the applet\n",
    "- [x] user B removes the applet without removing data\n",
    "- [x] user C removes the applet AND removes data\n",
    "- [x] delete userB and userC\n",
    "- [x] userA deactivites their applet\n",
    "- [x] delete userA\n",
    "- [x] refresh an applet\n",
    "- [x] add a schedule to an applet\n",
    "- [ ] add test for nested sub-activities\n",
    "\n",
    "### Backend TODOs\n",
    "\n",
    "- [ ] userA can see user's B & C's data\n",
    "- [x] get responses for each user in the last 7 days"
   ]
  },
  {
   "cell_type": "markdown",
   "metadata": {},
   "source": [
    "# Create a new user"
   ]
  },
  {
   "cell_type": "code",
   "execution_count": 7,
   "metadata": {},
   "outputs": [],
   "source": [
    "def testCreateUser(email=None):\n",
    "    randomUser = np.random.randint(1000000)\n",
    "    firstName = 'test'\n",
    "    lastName = 'user'\n",
    "    # NOTE: girder makes login and email lowercase!!!\n",
    "    login = 'testuser{}'.format(randomUser)\n",
    "    if not email:\n",
    "        email = 'testemail{}@testemail.com'.format(randomUser)\n",
    "    password = 'password'\n",
    "    createUser = girder.post('user', parameters=dict(firstName=firstName,\n",
    "                                        lastName=lastName,\n",
    "                                        login=login,\n",
    "                                        email=email,\n",
    "                                        password=password\n",
    "                                       )\n",
    "               )\n",
    "    # assert 'authToken' in createUser.keys(), 'user has no token, {}'.format(createUser)\n",
    "    assert createUser['email'] == email, 'email does not match, {} {}'.format(createUser['email'], email)\n",
    "    assert createUser['firstName'] == firstName, 'firstName does not match'\n",
    "    assert createUser['lastName'] == lastName, 'lastName does not match'\n",
    "    assert createUser['login'] == login, 'login does not match, {} {}'.format(createUser['login'], login)\n",
    "    assert createUser['admin'] == False, 'user is an admin'\n",
    "    assert createUser['_modelType'] == 'user', 'model is not user'\n",
    "    assert createUser['public'] == False, 'user is public!'\n",
    "\n",
    "    return createUser"
   ]
  },
  {
   "cell_type": "code",
   "execution_count": 8,
   "metadata": {},
   "outputs": [],
   "source": [
    "def authenticate(user):\n",
    "    girder.authenticate(username=user['login'], password='password')"
   ]
  },
  {
   "cell_type": "code",
   "execution_count": 9,
   "metadata": {},
   "outputs": [],
   "source": [
    "userA = testCreateUser()\n",
    "userB = testCreateUser()\n",
    "\n",
    "#authenticate(userA)"
   ]
  },
  {
   "cell_type": "markdown",
   "metadata": {},
   "source": [
    "# Get applets when the user doesn't have any"
   ]
  },
  {
   "cell_type": "code",
   "execution_count": 10,
   "metadata": {},
   "outputs": [],
   "source": [
    "def getAppletsNewUser(new_user):\n",
    "    girder.authenticate(username=new_user['login'], password='password')\n",
    "    appletList = girder.get('user/applets')\n",
    "    assert len(appletList) == 0, 'a new user should have an empty list of applets. we get {}'.format(appletList)\n",
    "    return 1"
   ]
  },
  {
   "cell_type": "code",
   "execution_count": 11,
   "metadata": {},
   "outputs": [
    {
     "data": {
      "text/plain": [
       "1"
      ]
     },
     "execution_count": 11,
     "metadata": {},
     "output_type": "execute_result"
    }
   ],
   "source": [
    "getAppletsNewUser(userA)"
   ]
  },
  {
   "cell_type": "markdown",
   "metadata": {},
   "source": [
    "# get Applet by ID\n",
    "\n",
    "want to check recently added applet here"
   ]
  },
  {
   "cell_type": "code",
   "execution_count": 12,
   "metadata": {},
   "outputs": [],
   "source": [
    "def getAppletById(user, ar):\n",
    "    girder.authenticate(username=user['login'], password='password')\n",
    "    res = girder.get('applet/{}'.format(ar['_id']))\n",
    "    assert res['applet']['_id'].split('applet/')[1] == ar['_id'], 'applet ids are not the same'\n",
    "    return 1"
   ]
  },
  {
   "cell_type": "markdown",
   "metadata": {},
   "source": [
    "# Add an applet"
   ]
  },
  {
   "cell_type": "markdown",
   "metadata": {},
   "source": [
    "activity set info is below:"
   ]
  },
  {
   "cell_type": "code",
   "execution_count": 13,
   "metadata": {},
   "outputs": [],
   "source": [
    "activitySetUrl = 'https://raw.githubusercontent.com/ReproNim/schema-standardization/master/activity-sets/ema-hbn/ema-hbn_schema'\n",
    "\n",
    "act1 = 'https://raw.githubusercontent.com/ReproNim/schema-standardization/master/activities/EmaHBNEvening/ema_evening_schema'\n",
    "act2 = 'https://raw.githubusercontent.com/ReproNim/schema-standardization/master/activities/EmaHBNMorning/ema_morning_schema'\n",
    "\n",
    "act1Item = 'https://raw.githubusercontent.com/ReproNim/schema-standardization/master/activities/EmaHBNEvening/items/good_bad_day'\n",
    "act2Item = 'https://raw.githubusercontent.com/ReproNim/schema-standardization/master/activities/EmaHBNMorning/items/sleeping_aids'"
   ]
  },
  {
   "cell_type": "code",
   "execution_count": 28,
   "metadata": {},
   "outputs": [],
   "source": [
    "nestedActivitySet = 'https://raw.githubusercontent.com/ReproNim/schema-standardization/master/activity-sets/pediatric-screener/pediatric-screener_schema'\n",
    "\n",
    "nact1 = 'https://raw.githubusercontent.com/ReproNim/schema-standardization/master/activities/PediatricScreener-Parent/pediatric_screener_parent_schema'\n",
    "nact2 = 'https://raw.githubusercontent.com/ReproNim/schema-standardization/master/activities/PediatricScreener-SelfReport/pediatric_screener_selfreport_schema'\n",
    "\n",
    "nact1Item = 'https://raw.githubusercontent.com/ReproNim/schema-standardization/master/activities/PediatricScreener-Parent/items/fidgety'\n",
    "nact2Item = 'https://raw.githubusercontent.com/ReproNim/schema-standardization/master/activities/PediatricScreener-SelfReport/items/having_less_fun'\n",
    "\n",
    "\n"
   ]
  },
  {
   "cell_type": "code",
   "execution_count": 15,
   "metadata": {},
   "outputs": [],
   "source": [
    "def addApplet(new_user, activitySetUrl):\n",
    "    girder.authenticate(username=new_user['login'], password='password')\n",
    "\n",
    "    # TODO: create an activity-set that JUST for testing.\n",
    "    # make sure it has all the weird qualities that can break\n",
    "\n",
    "\n",
    "    # for now, lets do the mindlogger demo\n",
    "    activitySetUrl = activitySetUrl\n",
    "    randomAS = np.random.randint(1000000)\n",
    "    ar = girder.post('applet', parameters=dict(activitySetUrl = activitySetUrl, name='testActivitySet{}'.format(randomAS)))\n",
    "\n",
    "    assert ar['_id'], 'there is no ID!'\n",
    "    assert ar['meta']['activitySet']['url'] == activitySetUrl, 'the URLS do not match! {} {}'.format(ar['meta']['activitySet']['url'], activitySetUrl)\n",
    "    \n",
    "    assert getAppletById(new_user, ar) == 1, 'something wrong with getAppletById'\n",
    "    return ar"
   ]
  },
  {
   "cell_type": "code",
   "execution_count": 16,
   "metadata": {},
   "outputs": [],
   "source": [
    "# userA_applets = addApplet(userA, activitySetUrl)\n",
    "userA_applets = addApplet(userA, nestedActivitySet)"
   ]
  },
  {
   "cell_type": "code",
   "execution_count": 18,
   "metadata": {},
   "outputs": [],
   "source": [
    "def getAppletsUser(user, n=1):\n",
    "    girder.authenticate(username=user['login'], password='password')\n",
    "    appletList = girder.get('user/applets')\n",
    "    assert len(appletList) == n, 'a new user should have {} applets. we get {}'.format(n, len(appletList))\n",
    "    return 1"
   ]
  },
  {
   "cell_type": "code",
   "execution_count": 19,
   "metadata": {},
   "outputs": [
    {
     "data": {
      "text/plain": [
       "1"
      ]
     },
     "execution_count": 19,
     "metadata": {},
     "output_type": "execute_result"
    }
   ],
   "source": [
    "getAppletsUser(userA, 1)"
   ]
  },
  {
   "cell_type": "markdown",
   "metadata": {},
   "source": [
    "### test the expanded applet with nested sub-activities"
   ]
  },
  {
   "cell_type": "code",
   "execution_count": 23,
   "metadata": {},
   "outputs": [],
   "source": [
    "# TODO: specify the applet instead of using the first one.\n",
    "def getExpandedApplet(userA):\n",
    "    authenticate(userA)\n",
    "    expandedApplet = girder.get('user/applets')[0]\n",
    "    return expandedApplet"
   ]
  },
  {
   "cell_type": "code",
   "execution_count": 24,
   "metadata": {},
   "outputs": [],
   "source": [
    "expApplet = getExpandedApplet(userA)"
   ]
  },
  {
   "cell_type": "code",
   "execution_count": 31,
   "metadata": {},
   "outputs": [],
   "source": [
    "assert len(expApplet['items']) == 59, 'there should be a total of 59 items for the whole applet'"
   ]
  },
  {
   "cell_type": "code",
   "execution_count": 33,
   "metadata": {},
   "outputs": [],
   "source": [
    "assert len(expApplet['activities']) == 8, 'there should be 8 activities for the whole applet, but some are sub-activities'"
   ]
  },
  {
   "cell_type": "markdown",
   "metadata": {},
   "source": [
    "### Refresh an applet"
   ]
  },
  {
   "cell_type": "code",
   "execution_count": 35,
   "metadata": {},
   "outputs": [],
   "source": [
    "def refreshApplet(userA, userA_applets):\n",
    "    authenticate(userA)\n",
    "    appletId = userA_applets['_id']\n",
    "    refreshResp = girder.get('applet/{}?refreshCache=true'.format(appletId))\n",
    "    # TODO: somehow check that the refresh actually worked?\n",
    "    return refreshResp"
   ]
  },
  {
   "cell_type": "code",
   "execution_count": 36,
   "metadata": {
    "scrolled": false
   },
   "outputs": [],
   "source": [
    "refreshed = refreshApplet(userA, userA_applets)"
   ]
  },
  {
   "cell_type": "code",
   "execution_count": 37,
   "metadata": {},
   "outputs": [
    {
     "data": {
      "text/plain": [
       "'https://raw.githubusercontent.com/ReproNim/schema-standardization/master/activity-sets/pediatric-screener/pediatric-screener_schema'"
      ]
     },
     "execution_count": 37,
     "metadata": {},
     "output_type": "execute_result"
    }
   ],
   "source": [
    "refreshed['applet']['url']"
   ]
  },
  {
   "cell_type": "markdown",
   "metadata": {},
   "source": [
    "### add a schedule"
   ]
  },
  {
   "cell_type": "code",
   "execution_count": 38,
   "metadata": {},
   "outputs": [],
   "source": [
    "def addSchedule(userA, userA_applets):\n",
    "    scheduleString = \"\"\"{\"type\":2,\"size\":1,\"fill\":true,\"minimumSize\":0,\"repeatCovers\":true,\"listTimes\":false,\"eventsOutside\":false,\"updateRows\":false,\"updateColumns\":false,\"around\":1567321200000,\"events\":[{\"data\":{\"title\":\"EMA: Morning\",\"description\":\"\",\"location\":\"\",\"color\":\"#673AB7\",\"forecolor\":\"#ffffff\",\"calendar\":\"\",\"busy\":true,\"icon\":\"\",\"URI\":\"http://repronim.org/schema-standardization/activity-sets/mindlogger-demo/mindlogger-demo_schema\",\"notifications\":[{\"start\":\"09:00\",\"end\":null,\"random\":false,\"notifyIfIncomplete\":false}],\"useNotifications\":true},\"schedule\":{}}]}\n",
    "    \"\"\"\n",
    "    schedule = simplejson.loads(scheduleString)\n",
    "    authenticate(userA)\n",
    "    appletId = userA_applets['_id']\n",
    "    putResp = girder.put('applet/{}/constraints/'.format(appletId), data=dict(schedule=simplejson.dumps(schedule)))\n",
    "    assert putResp['applet']['schedule'] == schedule"
   ]
  },
  {
   "cell_type": "code",
   "execution_count": 39,
   "metadata": {},
   "outputs": [],
   "source": [
    "addSchedule(userA, userA_applets)"
   ]
  },
  {
   "cell_type": "markdown",
   "metadata": {},
   "source": [
    "# Invite userB to userA's applet"
   ]
  },
  {
   "cell_type": "code",
   "execution_count": 40,
   "metadata": {},
   "outputs": [],
   "source": [
    "def inviteUserToApplet(userA, userA_applets, userB):\n",
    "    groupId = userA_applets['roles']['user']['groups'][0]['id']\n",
    "    authenticate(userA)\n",
    "    inviteResp = girder.post('group/{}/invitation'.format(groupId), {\n",
    "        \"email\": userB['email']\n",
    "    })\n",
    "    assert inviteResp['public'] == False, 'invite is public!'\n",
    "    assert len(inviteResp['access']['users']), 'ths user was not added'\n",
    "    return inviteResp"
   ]
  },
  {
   "cell_type": "code",
   "execution_count": 41,
   "metadata": {},
   "outputs": [],
   "source": [
    "inviteB = inviteUserToApplet(userA, userA_applets, userB)"
   ]
  },
  {
   "cell_type": "markdown",
   "metadata": {},
   "source": [
    "## Get a group's pending invites and check for a user"
   ]
  },
  {
   "cell_type": "code",
   "execution_count": 42,
   "metadata": {},
   "outputs": [],
   "source": [
    "def checkInvitesForUser(userA, userA_applets, userB):\n",
    "    authenticate(userA)\n",
    "    groupId = userA_applets['roles']['user']['groups'][0]['id']\n",
    "    pendingInvites = girder.get('group/{}/invitation'.format(groupId))\n",
    "    value = False\n",
    "    for invite in pendingInvites:\n",
    "        if invite['email'] == userB['email']:\n",
    "            value = True\n",
    "            break\n",
    "    assert value, \"email not in list of pending invites, {}\".format(pendingInvites)\n",
    "    return 1"
   ]
  },
  {
   "cell_type": "code",
   "execution_count": 43,
   "metadata": {},
   "outputs": [
    {
     "data": {
      "text/plain": [
       "1"
      ]
     },
     "execution_count": 43,
     "metadata": {},
     "output_type": "execute_result"
    }
   ],
   "source": [
    "checkInvitesForUser(userA, userA_applets, userB)"
   ]
  },
  {
   "cell_type": "markdown",
   "metadata": {},
   "source": [
    "### Accept an applet invite"
   ]
  },
  {
   "cell_type": "code",
   "execution_count": 44,
   "metadata": {},
   "outputs": [],
   "source": [
    "def checkForInvite(userB, userA_applets):\n",
    "    authenticate(userB)\n",
    "    pendingInvitesForUser = girder.get('user/invites')\n",
    "    groupId = userA_applets['roles']['user']['groups'][0]['id']\n",
    "    assert len(pendingInvitesForUser), \"this user has no invites\"\n",
    "    assert pendingInvitesForUser[0]['_id'] == groupId, \"this user doesn't have the invite you expect\"\n",
    "    return groupId"
   ]
  },
  {
   "cell_type": "code",
   "execution_count": 45,
   "metadata": {},
   "outputs": [],
   "source": [
    "def acceptAppletInvite(userB, userA_applets):\n",
    "    groupId = checkForInvite(userB, userA_applets)\n",
    "    authenticate(userB)\n",
    "    resp = girder.post('group/{}/member'.format(groupId))\n",
    "    assert resp['_modelType'] == 'group', \"something weird about response, {}\".format(resp)\n",
    "    return 1"
   ]
  },
  {
   "cell_type": "code",
   "execution_count": 46,
   "metadata": {},
   "outputs": [
    {
     "data": {
      "text/plain": [
       "1"
      ]
     },
     "execution_count": 46,
     "metadata": {},
     "output_type": "execute_result"
    }
   ],
   "source": [
    "acceptAppletInvite(userB, userA_applets)"
   ]
  },
  {
   "cell_type": "markdown",
   "metadata": {},
   "source": [
    "get a list of applet users (manager)"
   ]
  },
  {
   "cell_type": "code",
   "execution_count": 47,
   "metadata": {},
   "outputs": [],
   "source": [
    "def getUserTable(userA, userA_applets):\n",
    "    authenticate(userA)\n",
    "    appletUsers = girder.get('applet/{}/users'.format(userA_applets['_id']))\n",
    "    return appletUsers"
   ]
  },
  {
   "cell_type": "markdown",
   "metadata": {},
   "source": [
    "check that userB has an applet"
   ]
  },
  {
   "cell_type": "code",
   "execution_count": 48,
   "metadata": {},
   "outputs": [
    {
     "data": {
      "text/plain": [
       "1"
      ]
     },
     "execution_count": 48,
     "metadata": {},
     "output_type": "execute_result"
    }
   ],
   "source": [
    "getAppletsUser(userB, 1)"
   ]
  },
  {
   "cell_type": "markdown",
   "metadata": {},
   "source": [
    "### Invite someone who does not have an account yet"
   ]
  },
  {
   "cell_type": "code",
   "execution_count": 49,
   "metadata": {},
   "outputs": [],
   "source": [
    "userCemail = 'randomuserc{}@test.com'.format(np.random.randint(1000000))\n",
    "inviteC = inviteUserToApplet(userA, userA_applets, {'email': userCemail})"
   ]
  },
  {
   "cell_type": "code",
   "execution_count": 50,
   "metadata": {},
   "outputs": [
    {
     "data": {
      "text/plain": [
       "{'_accessLevel': 2,\n",
       " '_id': '5d8a4ddf646bfddd7363f820',\n",
       " '_modelType': 'group',\n",
       " 'access': {'users': [{'flags': [],\n",
       "    'id': '5d8a4dc8646bfddd7363f818',\n",
       "    'level': 2}]},\n",
       " 'created': '2019-09-24T17:09:51.784000+00:00',\n",
       " 'description': '',\n",
       " 'name': 'Default testActivitySet464922 (5d8a4ddf646bfddd7363f81f) Users',\n",
       " 'openRegistration': False,\n",
       " 'public': False,\n",
       " 'requests': [],\n",
       " 'updated': '2019-09-24T17:20:40.905512+00:00'}"
      ]
     },
     "execution_count": 50,
     "metadata": {},
     "output_type": "execute_result"
    }
   ],
   "source": [
    "inviteC"
   ]
  },
  {
   "cell_type": "code",
   "execution_count": 51,
   "metadata": {},
   "outputs": [],
   "source": [
    "def checkAppletUserTableForUser(userA, userA_applets, userCemail):\n",
    "    ut = getUserTable(userA, userA_applets)\n",
    "    assert len(list(filter(lambda x: x['email'] == userCemail, ut))) == 1\n",
    "    return ut"
   ]
  },
  {
   "cell_type": "code",
   "execution_count": 52,
   "metadata": {},
   "outputs": [
    {
     "data": {
      "text/plain": [
       "[{'_id': '5d8a5068646bfddd7363fa38',\n",
       "  'email': 'randomuserc135288@test.com',\n",
       "  'groups': [{'_id': '5d8a4ddf646bfddd7363f820',\n",
       "    'name': 'Default testActivitySet464922 (5d8a4ddf646bfddd7363f81f) Users',\n",
       "    'role': 'user',\n",
       "    'status': 'pending'}]},\n",
       " {'_id': '5d8a4dc8646bfddd7363f818',\n",
       "  'email': 'testemail647576@testemail.com',\n",
       "  'groups': [{'_id': '5d8a4ddf646bfddd7363f820',\n",
       "    'name': 'Default testActivitySet464922 (5d8a4ddf646bfddd7363f81f) Users',\n",
       "    'role': 'user',\n",
       "    'status': 'active'}]},\n",
       " {'_id': '5d8a4dc8646bfddd7363f81b',\n",
       "  'email': 'testemail927966@testemail.com',\n",
       "  'groups': [{'_id': '5d8a4ddf646bfddd7363f820',\n",
       "    'name': 'Default testActivitySet464922 (5d8a4ddf646bfddd7363f81f) Users',\n",
       "    'role': 'user',\n",
       "    'status': 'active'}]},\n",
       " {'_id': '5d8a4dc8646bfddd7363f818',\n",
       "  'email': 'testemail647576@testemail.com',\n",
       "  'groups': [{'_id': '5d8a4ddf646bfddd7363f821',\n",
       "    'name': 'Default testActivitySet464922 (5d8a4ddf646bfddd7363f81f) Editors',\n",
       "    'role': 'editor',\n",
       "    'status': 'active'}]},\n",
       " {'_id': '5d8a4dc8646bfddd7363f818',\n",
       "  'email': 'testemail647576@testemail.com',\n",
       "  'groups': [{'_id': '5d8a4ddf646bfddd7363f822',\n",
       "    'name': 'Default testActivitySet464922 (5d8a4ddf646bfddd7363f81f) Managers',\n",
       "    'role': 'manager',\n",
       "    'status': 'active'}]},\n",
       " {'_id': '5d8a4dc8646bfddd7363f818',\n",
       "  'email': 'testemail647576@testemail.com',\n",
       "  'groups': [{'_id': '5d8a4ddf646bfddd7363f823',\n",
       "    'name': 'Default testActivitySet464922 (5d8a4ddf646bfddd7363f81f) Reviewers',\n",
       "    'role': 'reviewer',\n",
       "    'status': 'active'}]}]"
      ]
     },
     "execution_count": 52,
     "metadata": {},
     "output_type": "execute_result"
    }
   ],
   "source": [
    "checkAppletUserTableForUser(userA, userA_applets, userCemail)"
   ]
  },
  {
   "cell_type": "markdown",
   "metadata": {},
   "source": [
    "create that person's account"
   ]
  },
  {
   "cell_type": "code",
   "execution_count": 53,
   "metadata": {},
   "outputs": [],
   "source": [
    "userC = testCreateUser(userCemail)"
   ]
  },
  {
   "cell_type": "markdown",
   "metadata": {},
   "source": [
    "and check if they have an invite"
   ]
  },
  {
   "cell_type": "code",
   "execution_count": 54,
   "metadata": {},
   "outputs": [
    {
     "data": {
      "text/plain": [
       "1"
      ]
     },
     "execution_count": 54,
     "metadata": {},
     "output_type": "execute_result"
    }
   ],
   "source": [
    "checkInvitesForUser(userA, userA_applets, userC)"
   ]
  },
  {
   "cell_type": "code",
   "execution_count": 55,
   "metadata": {},
   "outputs": [
    {
     "data": {
      "text/plain": [
       "'5d8a4ddf646bfddd7363f820'"
      ]
     },
     "execution_count": 55,
     "metadata": {},
     "output_type": "execute_result"
    }
   ],
   "source": [
    "checkForInvite(userC, userA_applets)"
   ]
  },
  {
   "cell_type": "code",
   "execution_count": 56,
   "metadata": {},
   "outputs": [
    {
     "data": {
      "text/plain": [
       "1"
      ]
     },
     "execution_count": 56,
     "metadata": {},
     "output_type": "execute_result"
    }
   ],
   "source": [
    "acceptAppletInvite(userC, userA_applets)"
   ]
  },
  {
   "cell_type": "markdown",
   "metadata": {},
   "source": [
    "check that userC has applets"
   ]
  },
  {
   "cell_type": "code",
   "execution_count": 57,
   "metadata": {},
   "outputs": [
    {
     "data": {
      "text/plain": [
       "1"
      ]
     },
     "execution_count": 57,
     "metadata": {},
     "output_type": "execute_result"
    }
   ],
   "source": [
    "getAppletsUser(userC, 1)"
   ]
  },
  {
   "cell_type": "markdown",
   "metadata": {},
   "source": [
    "# Post a response"
   ]
  },
  {
   "cell_type": "code",
   "execution_count": 58,
   "metadata": {},
   "outputs": [],
   "source": [
    "def postResponse(userA, actURI, itemURI):\n",
    "    authenticate(userA)\n",
    "    expandedApplet = girder.get('user/applets')[0]\n",
    "    appletId = expandedApplet['applet']['_id'].split('/')[1]\n",
    "    a = expandedApplet['activities'][actURI]\n",
    "    activityId = a['_id'].split('/')[1]\n",
    "    # itemURI = itemURI\n",
    "    response = {}\n",
    "    response[itemURI] = np.random.randint(2)\n",
    "\n",
    "    resp = girder.post('response/{}/{}'.format(appletId, activityId),\n",
    "                       data={'metadata': simplejson.dumps(\n",
    "                       {\n",
    "                           'activity': activityId,\n",
    "                           'applet': appletId,\n",
    "                           'responses': response\n",
    "                       }\n",
    "                       )})\n",
    "    assert resp['_id'], 'response is weird and does not have an id'\n",
    "    assert 'activity' in resp['meta'].keys(), 'response does not have an activity'\n",
    "    assert 'applet' in resp['meta'].keys(), 'response does not have an applet'\n",
    "    assert 'responses' in resp['meta'].keys(), 'response does not have an response'\n",
    "    return resp"
   ]
  },
  {
   "cell_type": "code",
   "execution_count": 59,
   "metadata": {},
   "outputs": [
    {
     "data": {
      "text/plain": [
       "{'_id': '5d8a5074646bfddd7363fa40',\n",
       " 'baseParentId': '5d8a4dc8646bfddd7363f818',\n",
       " 'baseParentType': 'user',\n",
       " 'created': '2019-09-24T17:20:52.970877+00:00',\n",
       " 'creatorId': '5d8a4dc8646bfddd7363f818',\n",
       " 'description': 'Self-report questionnaire (3) response on 2019-09-24 at 10:20:52 PDT',\n",
       " 'folderId': '5d8a5074646bfddd7363fa3e',\n",
       " 'lowerName': '2019-09-24-10-20-52-pdt (1)',\n",
       " 'meta': {'activity': {'@id': '5d8a5056646bfddd7363f9b5',\n",
       "   'name': 'Self-report questionnaire (3)',\n",
       "   'url': 'https://raw.githubusercontent.com/ReproNim/schema-standardization/master/activities/PediatricScreener-SelfReport/pediatric_screener_selfreport_schema'},\n",
       "  'allTime': {'responses': {'https://raw.githubusercontent.com/ReproNim/schema-standardization/master/activities/PediatricScreener-SelfReport/items/having_less_fun': [{'count': 1,\n",
       "      'value': 1}]},\n",
       "   'schema:duration': 'PT0.00534S',\n",
       "   'schema:endDate': '2019-09-24T17:20:52.975340+00:00',\n",
       "   'schema:startDate': '2019-09-24T17:20:52.970000+00:00'},\n",
       "  'applet': {'@id': '5d8a4ddf646bfddd7363f81f',\n",
       "   'name': 'testActivitySet464922',\n",
       "   'url': None},\n",
       "  'last7Days': {'responses': {'https://raw.githubusercontent.com/ReproNim/schema-standardization/master/activities/PediatricScreener-SelfReport/items/having_less_fun': [{'date': '2019-09-24T17:20:52.974000+00:00',\n",
       "      'value': 1}]},\n",
       "   'schema:duration': 'P7D',\n",
       "   'schema:endDate': '2019-09-24T17:20:52.975340+00:00',\n",
       "   'schema:startDate': '2019-09-17T17:20:52.975340+00:00'},\n",
       "  'responses': {'https://raw.githubusercontent.com/ReproNim/schema-standardization/master/activities/PediatricScreener-SelfReport/items/having_less_fun': 1},\n",
       "  'subject': {'@id': '5d8a4dc8646bfddd7363f818'}},\n",
       " 'name': '2019-09-24-10-20-52-PDT (1)',\n",
       " 'readOnly': True,\n",
       " 'size': 0,\n",
       " 'updated': '2019-09-24T17:20:53.004766+00:00'}"
      ]
     },
     "execution_count": 59,
     "metadata": {},
     "output_type": "execute_result"
    }
   ],
   "source": [
    "# postResponse(userA, act1, act1Item)\n",
    "# postResponse(userA, act2, act2Item)\n",
    "\n",
    "# Note: posting the response under the top-level activity, not the sub-activity.\n",
    "\n",
    "postResponse(userA, nact1, nact1Item)\n",
    "postResponse(userA, nact2, nact2Item)\n",
    "\n",
    "# postResponse(userB)\n",
    "# postResponse(userC)"
   ]
  },
  {
   "cell_type": "markdown",
   "metadata": {},
   "source": [
    "### get last 7 days of responses"
   ]
  },
  {
   "cell_type": "code",
   "execution_count": 63,
   "metadata": {},
   "outputs": [
    {
     "data": {
      "text/plain": [
       "{'responses': {'https://raw.githubusercontent.com/ReproNim/schema-standardization/master/activities/PediatricScreener-Parent/items/fidgety': [{'date': '2019-09-24',\n",
       "    'value': 0}],\n",
       "  'https://raw.githubusercontent.com/ReproNim/schema-standardization/master/activities/PediatricScreener-SelfReport/items/having_less_fun': [{'date': '2019-09-24',\n",
       "    'value': 1}]}}"
      ]
     },
     "execution_count": 63,
     "metadata": {},
     "output_type": "execute_result"
    }
   ],
   "source": [
    "authenticate(userA)\n",
    "appletId = userA_applets['_id']\n",
    "last7 = girder.get('response/last7Days/{}'.format(appletId))\n",
    "last7"
   ]
  },
  {
   "cell_type": "markdown",
   "metadata": {},
   "source": [
    "### Remove an applet without removing data"
   ]
  },
  {
   "cell_type": "code",
   "execution_count": 64,
   "metadata": {},
   "outputs": [],
   "source": [
    "def removeApplet(userB, userA_applets):\n",
    "    authenticate(userB)\n",
    "    groupId = userA_applets['roles']['user']['groups'][0]['id']\n",
    "    girder.delete('group/{}/member?delete=false'.format(groupId))\n",
    "    assert getAppletsUser(userB, 0), \"user still has the applet that should be deleted.\"\n",
    "\n",
    "removeApplet(userB, userA_applets)"
   ]
  },
  {
   "cell_type": "markdown",
   "metadata": {},
   "source": [
    "### Remove an applet and the data"
   ]
  },
  {
   "cell_type": "code",
   "execution_count": 65,
   "metadata": {},
   "outputs": [],
   "source": [
    "def deleteApplet(userC, userA_applets):\n",
    "    authenticate(userC)\n",
    "    groupId = userA_applets['roles']['user']['groups'][0]['id']\n",
    "    girder.delete('group/{}/member?delete=true'.format(groupId))\n",
    "    assert getAppletsUser(userC, 0), \"user still has the applet that should be deleted.\"\n",
    "\n",
    "deleteApplet(userC, userA_applets)"
   ]
  },
  {
   "cell_type": "markdown",
   "metadata": {},
   "source": [
    "### Deactivate an applet as admin"
   ]
  },
  {
   "cell_type": "code",
   "execution_count": 66,
   "metadata": {},
   "outputs": [],
   "source": [
    "def deactivateApplet(userA, userA_applets):\n",
    "    authenticate(userA)\n",
    "    girder.delete('applet/{}'.format(userA_applets['_id']))\n",
    "    assert getAppletsUser(userA, 0), \"user still has the applet that should be deleted.\"\n",
    "\n",
    "deactivateApplet(userA, userA_applets)"
   ]
  },
  {
   "cell_type": "markdown",
   "metadata": {},
   "source": [
    "# Delete a user"
   ]
  },
  {
   "cell_type": "code",
   "execution_count": 67,
   "metadata": {},
   "outputs": [],
   "source": [
    "def testDeleteUser(new_user):\n",
    "\n",
    "    girder.authenticate(username=new_user['login'], password='password')\n",
    "\n",
    "    deleteUser = girder.delete('user/{}'.format(new_user['_id']))\n",
    "\n",
    "    assert deleteUser['message'] == 'Deleted user {}.'.format(new_user['login']), \"{} does not equal {}\".format(deleteUser['message'], 'Deleted user {}'.format(new_user['login']))\n",
    "    \n",
    "    return 1"
   ]
  },
  {
   "cell_type": "code",
   "execution_count": 68,
   "metadata": {},
   "outputs": [
    {
     "data": {
      "text/plain": [
       "1"
      ]
     },
     "execution_count": 68,
     "metadata": {},
     "output_type": "execute_result"
    }
   ],
   "source": [
    "testDeleteUser(userA)\n",
    "testDeleteUser(userB)\n",
    "testDeleteUser(userC)"
   ]
  },
  {
   "cell_type": "code",
   "execution_count": null,
   "metadata": {},
   "outputs": [],
   "source": []
  }
 ],
 "metadata": {
  "kernelspec": {
   "display_name": "Python 3",
   "language": "python",
   "name": "python3"
  },
  "language_info": {
   "codemirror_mode": {
    "name": "ipython",
    "version": 3
   },
   "file_extension": ".py",
   "mimetype": "text/x-python",
   "name": "python",
   "nbconvert_exporter": "python",
   "pygments_lexer": "ipython3",
   "version": "3.7.3"
  }
 },
 "nbformat": 4,
 "nbformat_minor": 2
}
